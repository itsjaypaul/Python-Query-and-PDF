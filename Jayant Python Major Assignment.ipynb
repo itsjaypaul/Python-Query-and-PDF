{
 "cells": [
  {
   "cell_type": "code",
   "execution_count": 157,
   "id": "397447e9-921f-498f-a943-f79dcedede6a",
   "metadata": {},
   "outputs": [
    {
     "name": "stdout",
     "output_type": "stream",
     "text": [
      " The Type of x is: <class 'int'>\n",
      " The Type of y is: <class 'str'>\n"
     ]
    }
   ],
   "source": [
    "#Q1 Find the datatype of these two declarations.\n",
    "x = 5\n",
    "y = \"John\"\n",
    "\n",
    "print (\" The Type of x is:\", type(x))\n",
    "print (\" The Type of y is:\", type(y))"
   ]
  },
  {
   "cell_type": "code",
   "execution_count": null,
   "id": "23e65f69-4694-4e47-9b00-438dba140cfb",
   "metadata": {},
   "outputs": [],
   "source": [
    "#Q2 Check whether the following syntax is valid or invalid for naming a variable. ?\n",
    "Example: abc=100 #valid syntax\n",
    "1) 3a=10\n",
    "2) @abc=10\n",
    "3) a100=100\n",
    "4) _a984_=100\n",
    "5) a9967$=100\n",
    "6) xyz-2=100"
   ]
  },
  {
   "cell_type": "code",
   "execution_count": 152,
   "id": "11b77386-9e58-4e1b-9896-a95191ac8d83",
   "metadata": {},
   "outputs": [
    {
     "ename": "SyntaxError",
     "evalue": "invalid decimal literal (516579128.py, line 1)",
     "output_type": "error",
     "traceback": [
      "\u001b[1;36m  Cell \u001b[1;32mIn[152], line 1\u001b[1;36m\u001b[0m\n\u001b[1;33m    3a=10\u001b[0m\n\u001b[1;37m    ^\u001b[0m\n\u001b[1;31mSyntaxError\u001b[0m\u001b[1;31m:\u001b[0m invalid decimal literal\n"
     ]
    }
   ],
   "source": [
    "3a=10\n",
    "print (3a)"
   ]
  },
  {
   "cell_type": "code",
   "execution_count": 76,
   "id": "6fd30892-3f23-4614-862b-7e6217e7f562",
   "metadata": {},
   "outputs": [
    {
     "ename": "SyntaxError",
     "evalue": "invalid syntax. Maybe you meant '==' or ':=' instead of '='? (2702822024.py, line 1)",
     "output_type": "error",
     "traceback": [
      "\u001b[1;36m  Cell \u001b[1;32mIn[76], line 1\u001b[1;36m\u001b[0m\n\u001b[1;33m    @abc=10\u001b[0m\n\u001b[1;37m     ^\u001b[0m\n\u001b[1;31mSyntaxError\u001b[0m\u001b[1;31m:\u001b[0m invalid syntax. Maybe you meant '==' or ':=' instead of '='?\n"
     ]
    }
   ],
   "source": [
    "@abc=10\n",
    "print(@abc)"
   ]
  },
  {
   "cell_type": "code",
   "execution_count": 78,
   "id": "9c72435f-3da3-4427-934c-fa480e6bd55c",
   "metadata": {},
   "outputs": [
    {
     "name": "stdout",
     "output_type": "stream",
     "text": [
      "100\n"
     ]
    }
   ],
   "source": [
    "a100=100\n",
    "print(a100)"
   ]
  },
  {
   "cell_type": "code",
   "execution_count": 80,
   "id": "c5e6a63a-0e11-46b2-bcfe-53c0fd60378e",
   "metadata": {},
   "outputs": [
    {
     "name": "stdout",
     "output_type": "stream",
     "text": [
      "100\n"
     ]
    }
   ],
   "source": [
    "_a984_=100\n",
    "print(_a984_)"
   ]
  },
  {
   "cell_type": "code",
   "execution_count": 82,
   "id": "a291f517-8d70-4284-87f9-049ebbc2db7d",
   "metadata": {},
   "outputs": [
    {
     "ename": "SyntaxError",
     "evalue": "invalid syntax (996261825.py, line 1)",
     "output_type": "error",
     "traceback": [
      "\u001b[1;36m  Cell \u001b[1;32mIn[82], line 1\u001b[1;36m\u001b[0m\n\u001b[1;33m    a9967$=100\u001b[0m\n\u001b[1;37m         ^\u001b[0m\n\u001b[1;31mSyntaxError\u001b[0m\u001b[1;31m:\u001b[0m invalid syntax\n"
     ]
    }
   ],
   "source": [
    "a9967$=100\n",
    "print(a9967$)"
   ]
  },
  {
   "cell_type": "code",
   "execution_count": 84,
   "id": "32a18808-6049-4b60-8db2-10225076bd78",
   "metadata": {},
   "outputs": [
    {
     "ename": "SyntaxError",
     "evalue": "cannot assign to expression here. Maybe you meant '==' instead of '='? (4113115602.py, line 1)",
     "output_type": "error",
     "traceback": [
      "\u001b[1;36m  Cell \u001b[1;32mIn[84], line 1\u001b[1;36m\u001b[0m\n\u001b[1;33m    xyz-2=100\u001b[0m\n\u001b[1;37m    ^\u001b[0m\n\u001b[1;31mSyntaxError\u001b[0m\u001b[1;31m:\u001b[0m cannot assign to expression here. Maybe you meant '==' instead of '='?\n"
     ]
    }
   ],
   "source": [
    "xyz-2=100\n",
    "print(\"xyz-2\")"
   ]
  },
  {
   "cell_type": "code",
   "execution_count": 159,
   "id": "cb011b0c-c1e4-4812-aab2-de2482a37dc6",
   "metadata": {},
   "outputs": [
    {
     "name": "stdout",
     "output_type": "stream",
     "text": [
      "3a #invalid syntax\n",
      "@abc #invalid syntax\n",
      "a100 #valid syntax\n",
      "_a984_ #valid syntax\n",
      "a9967$ #invalid syntax\n",
      "xyz-2 #invalid syntax\n"
     ]
    }
   ],
   "source": [
    "#Direct query to identify Valid and invalid variables\n",
    "\n",
    "variables = [\"3a\", \"@abc\", \"a100\", \"_a984_\", \"a9967$\", \"xyz-2\"]\n",
    "\n",
    "for var in variables:\n",
    "    if var.isidentifier():\n",
    "        print(f\"{var} #valid syntax\")\n",
    "    else:\n",
    "        print(f\"{var} #invalid syntax\")"
   ]
  },
  {
   "cell_type": "code",
   "execution_count": 161,
   "id": "d7b51118-d8c2-490b-9958-831b819998f6",
   "metadata": {},
   "outputs": [
    {
     "name": "stdout",
     "output_type": "stream",
     "text": [
      "3 exists in the list\n",
      "9 does not exist in the list\n"
     ]
    }
   ],
   "source": [
    "#Q3 Check if an element exists in the list in Python.\n",
    "#list = test_list = [1, 6, 3, 5, 3, 4]\n",
    "#1) Check if 3 exist or not.\n",
    "#2) Check if 9 exists or not.\n",
    "\n",
    "test_list = [1, 6, 3, 5, 3, 4]\n",
    "\n",
    "# To check if 3 exists in the list\n",
    "if 3 in test_list:\n",
    "    print(\"3 exists in the list\")\n",
    "else:\n",
    "    print(\"3 does not exist in the list\")\n",
    "\n",
    "# To check if 9 exists in the list\n",
    "if 9 in test_list:\n",
    "    print(\"9 exists in the list\")\n",
    "else:\n",
    "    print(\"9 does not exist in the list\")"
   ]
  },
  {
   "cell_type": "code",
   "execution_count": 4,
   "id": "03272e70-9a58-421a-9f34-3ea83b15149e",
   "metadata": {},
   "outputs": [
    {
     "name": "stdin",
     "output_type": "stream",
     "text": [
      "Do you want to see the current date? (y/n):  n\n"
     ]
    },
    {
     "name": "stdout",
     "output_type": "stream",
     "text": [
      "Okay, not showing the date.\n"
     ]
    }
   ],
   "source": [
    "#Q4 Take the user input to print the current date?\n",
    "\n",
    "from datetime import datetime\n",
    "\n",
    "# Need to prompt the user for input\n",
    "user_input = input(\"Do you want to see the current date? (y/n): \").strip().lower()\n",
    "\n",
    "# Y - Yes, N - No\n",
    "\n",
    "# To check the user's response\n",
    "if user_input == 'y':\n",
    "    # Get the current date\n",
    "    current_date = datetime.now().strftime(\"%Y-%m-%d\")\n",
    "    print(f\"Current date: {current_date}\")\n",
    "else:\n",
    "    print(\"Okay, not showing the date.\")"
   ]
  },
  {
   "cell_type": "code",
   "execution_count": 14,
   "id": "213625c6-e463-4d3a-a25a-282893c443c8",
   "metadata": {},
   "outputs": [
    {
     "name": "stdout",
     "output_type": "stream",
     "text": [
      "The output of (9//2) is: 4\n",
      "The output of (9%2) is: 1\n"
     ]
    }
   ],
   "source": [
    "#Q5 What is the output of the following code?\n",
    "#a) print 9//2\n",
    "#b) print 9%2\n",
    "\n",
    "# Lets define the variables to get the desired print output\n",
    "\n",
    "x= 9//2\n",
    "y= 9%2\n",
    "\n",
    "print (\"The output of (9//2) is:\", x)\n",
    "print (\"The output of (9%2) is:\", y)"
   ]
  },
  {
   "cell_type": "code",
   "execution_count": 130,
   "id": "cf19213b-204c-4aeb-811a-9c8f9e393ea3",
   "metadata": {},
   "outputs": [
    {
     "name": "stdout",
     "output_type": "stream",
     "text": [
      "1\n",
      "2\n",
      "3\n",
      "4\n",
      "5\n",
      "6\n",
      "7\n",
      "8\n",
      "9\n",
      "10\n"
     ]
    }
   ],
   "source": [
    "#Q6 Print the First 10 Natural Numbers using a while loop.\n",
    "\n",
    "#To initialize it\n",
    "number = 1\n",
    "\n",
    "while number <= 10:\n",
    "    print(number)\n",
    "    number += 1"
   ]
  },
  {
   "cell_type": "code",
   "execution_count": 16,
   "id": "875bb80c-e109-4608-af7e-f642bf6baa7d",
   "metadata": {},
   "outputs": [
    {
     "name": "stdin",
     "output_type": "stream",
     "text": [
      "Enter a number:  10\n"
     ]
    },
    {
     "name": "stdout",
     "output_type": "stream",
     "text": [
      "The sum of all numbers from 1 to 10 is 55\n"
     ]
    }
   ],
   "source": [
    "#Q7 Write a program to accept a number from a user and calculate the sum of all numbers from 1 to a given number. \n",
    "#Example= if the user entered 10 the output should be 55 (1+2+3+4+5+6+7+8+9+10)\n",
    "\n",
    "# To accept a number from the user\n",
    "number = int(input(\"Enter a number: \"))\n",
    "\n",
    "# Initialize the sum variable\n",
    "total_sum = 0\n",
    "\n",
    "# To calculate the sum of all numbers from 1 to the given number\n",
    "for i in range(1, number + 1):\n",
    "    total_sum += i\n",
    "\n",
    "# To print the result\n",
    "print(f\"The sum of all numbers from 1 to {number} is {total_sum}\")"
   ]
  },
  {
   "cell_type": "code",
   "execution_count": 144,
   "id": "ad8a10e2-73a6-4680-a24e-ba4193b5726a",
   "metadata": {},
   "outputs": [
    {
     "name": "stdout",
     "output_type": "stream",
     "text": [
      "1\n",
      "2\n",
      "Fizz\n",
      "4\n",
      "Buzz\n",
      "Fizz\n",
      "7\n",
      "8\n",
      "Fizz\n",
      "Buzz\n",
      "11\n",
      "Fizz\n",
      "13\n",
      "14\n",
      "FizzBuzz\n",
      "16\n",
      "17\n",
      "Fizz\n",
      "19\n",
      "Buzz\n",
      "Fizz\n",
      "22\n",
      "23\n",
      "Fizz\n",
      "Buzz\n",
      "26\n",
      "Fizz\n",
      "28\n",
      "29\n",
      "FizzBuzz\n",
      "31\n",
      "32\n",
      "Fizz\n",
      "34\n",
      "Buzz\n",
      "Fizz\n",
      "37\n",
      "38\n",
      "Fizz\n",
      "Buzz\n",
      "41\n",
      "Fizz\n",
      "43\n",
      "44\n",
      "FizzBuzz\n",
      "46\n",
      "47\n",
      "Fizz\n",
      "49\n",
      "Buzz\n"
     ]
    }
   ],
   "source": [
    "#Q8 Write a Python program that iterates the integers from 1 to 50. For multiples of three print \"Fizz\" instead of the number and for multiples\n",
    "#of five print \"Buzz\". For numbers that are multiples of both three and five print \"FizzBuzz\"?\n",
    "\n",
    "# To iterate through numbers from 1 to 50\n",
    "for i in range(1, 51):\n",
    "    # To check if the number is divisible by both 3 and 5\n",
    "    if i % 3 == 0 and i % 5 == 0:\n",
    "        print(\"FizzBuzz\")\n",
    "    # To check if the number is divisible by 3\n",
    "    elif i % 3 == 0:\n",
    "        print(\"Fizz\")\n",
    "    # To check if the number is divisible by 5\n",
    "    elif i % 5 == 0:\n",
    "        print(\"Buzz\")\n",
    "    # If the number is not divisible by 3 or 5, print the number itself\n",
    "    else:\n",
    "        print(i)\n"
   ]
  },
  {
   "cell_type": "code",
   "execution_count": null,
   "id": "c6286c9b-b058-4c9a-a2e0-0e1037476dc5",
   "metadata": {},
   "outputs": [],
   "source": []
  }
 ],
 "metadata": {
  "kernelspec": {
   "display_name": "Python 3 (ipykernel)",
   "language": "python",
   "name": "python3"
  },
  "language_info": {
   "codemirror_mode": {
    "name": "ipython",
    "version": 3
   },
   "file_extension": ".py",
   "mimetype": "text/x-python",
   "name": "python",
   "nbconvert_exporter": "python",
   "pygments_lexer": "ipython3",
   "version": "3.12.4"
  }
 },
 "nbformat": 4,
 "nbformat_minor": 5
}
